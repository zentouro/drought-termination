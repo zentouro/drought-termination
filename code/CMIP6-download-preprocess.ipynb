{
 "cells": [
  {
   "cell_type": "markdown",
   "id": "8a49ac7c-e48f-4a8b-888b-1551329a7a4f",
   "metadata": {},
   "source": [
    "### CMIP6 Drought Anomaly: Pre & Post processing, Timeseries export\n"
   ]
  },
  {
   "cell_type": "markdown",
   "id": "e29caa77-d6cd-4649-a752-267252d5ece2",
   "metadata": {},
   "source": [
    "### Required Packages"
   ]
  },
  {
   "cell_type": "code",
   "execution_count": 1,
   "id": "5c0fd30a-585c-48aa-a49d-5a6e13813816",
   "metadata": {},
   "outputs": [],
   "source": [
    "# data import\n",
    "import zarr\n",
    "import intake\n",
    "from dask.diagnostics import ProgressBar\n",
    "\n",
    "\n",
    "import numpy as np\n",
    "import pandas as pd\n",
    "import xarray as xr\n",
    "import dask \n",
    "import datetime\n",
    "\n",
    "xr.set_options(display_style='html')\n",
    "import cftime\n",
    "import nc_time_axis\n",
    "\n",
    "import warnings\n",
    "warnings.filterwarnings(\"ignore\")\n",
    "\n",
    "# progress bars for loops\n",
    "from tqdm.notebook import tqdm  "
   ]
  },
  {
   "cell_type": "markdown",
   "id": "7ffb9a5b-8409-44b6-b50d-30ca270c5fba",
   "metadata": {},
   "source": [
    "### TO DO:\n",
    "- turn helper functions into a utility package"
   ]
  },
  {
   "cell_type": "code",
   "execution_count": 2,
   "id": "7af925b1-7f4a-40cb-9c2b-3ecfde088a79",
   "metadata": {},
   "outputs": [],
   "source": [
    "#import sys\n",
    "#sys.path.append('~/drought-termination/code/CMIP6_utils.py')\n",
    "#import CMIP6_utils"
   ]
  },
  {
   "cell_type": "markdown",
   "id": "d7f2a6a0-e982-4115-aa3f-9efc00c8e877",
   "metadata": {},
   "source": [
    "### Helper Functions\n"
   ]
  },
  {
   "cell_type": "code",
   "execution_count": 3,
   "id": "dd2217ca-4647-4970-b9be-5a7c9f4016ad",
   "metadata": {},
   "outputs": [],
   "source": [
    "def fix_lon(ds):\n",
    "    '''\n",
    "    adjust longitude to be [-180, 180]\n",
    "    '''\n",
    "    ds = ds.copy()\n",
    "    \n",
    "    ## TO DO FIGURE OUT HOW TO KEEP LONGITUDE ATTRIBUTES \n",
    "    if ds.lon.max()>180:\n",
    "        ds.coords['lon'] = ((ds.coords['lon'] + 180) % 360 - 180) \n",
    "        ds = ds.sortby(ds.lon)\n",
    "\n",
    "    return ds\n",
    "\n",
    "def fix_time(ds):\n",
    "    '''\n",
    "    reformat time data to be a cftime.datetime object with year, month, day=1, calendar='proleptic_gregorian'\n",
    "    '''\n",
    "    ds = ds.copy()\n",
    "    \n",
    "    # get time tuples, in the form (year, month, ... )\n",
    "    time_tuples = [t.timetuple() for t in ds.coords['time'].data]\n",
    "    #ds.coords['time'] = [cftime.datetime(time_tuple[0], time_tuple[1], 1, calendar='proleptic_gregorian')\n",
    "    #                     for time_tuple in time_tuples]\n",
    "    \n",
    "    ds.coords['time'] = [cftime.datetime(time_tuple[0], time_tuple[1], time_tuple[2], calendar='proleptic_gregorian')\n",
    "                         for time_tuple in time_tuples]\n",
    "    \n",
    "    return ds\n",
    "\n",
    "\n",
    "def wrapper(ds):\n",
    "    '''\n",
    "    clean up newly imported data\n",
    "    '''\n",
    "    ds = ds.copy()\n",
    "    \n",
    "    if ('longitude' in ds.dims) and ('latitude' in ds.dims):\n",
    "        ds = ds.rename({'longitude':'lon', 'latitude': 'lat'}) # some models labelled dimensions differently...\n",
    "    if ('bnds' in ds.dims): \n",
    "        ds=ds.drop_dims('bnds')\n",
    "    if ('vertex' in ds.dims): \n",
    "        ds=ds.drop_dims('vertex')\n",
    "    if ('height' in ds.dims): \n",
    "        ds=ds.drop_dims('height')\n",
    "    if ('height' in ds): \n",
    "        ds=ds.drop_vars('height') \n",
    "    if ('depth' in ds.dims):\n",
    "        ds=ds.drop_dims('depth')\n",
    "    if ('depth' in ds): \n",
    "        ds=ds.drop_vars('depth') \n",
    "    \n",
    "    \n",
    "    # clean up the different calendars and get them all using the same cftime (hopefully)\n",
    "    ds = fix_time(ds)\n",
    "    # fix longitude values across all the models \n",
    "    ds = fix_lon(ds)\n",
    "    return ds\n",
    "\n",
    "\n",
    "\n",
    "### GLOBAL MEANS ###\n",
    "def get_lat_name(ds):\n",
    "    for lat_name in ['lat', 'latitude']:\n",
    "        if lat_name in ds.coords:\n",
    "            return lat_name\n",
    "    raise RuntimeError(\"Couldn't find a latitude coordinate\")\n",
    "\n",
    "def global_mean(ds):\n",
    "    \"\"\"\n",
    "    Calculate weighted global mean average\n",
    "    \"\"\"\n",
    "    lat = ds[get_lat_name(ds)]\n",
    "    weight = np.cos(np.deg2rad(lat))\n",
    "    weight /= weight.mean()\n",
    "    other_dims = set(ds.dims) - {'time'} - {'year'} - {'member_id'}\n",
    "    return (ds * weight).mean(other_dims)\n",
    "\n",
    "def region_select(ds, region_params):\n",
    "    \"\"\"\n",
    "    subset a dataset by region\n",
    "    \"\"\"\n",
    "    region_ds = ds.sel(lat=slice(*region_params['lat']), lon=slice(*region_params['lon']))\n",
    "    return region_ds\n",
    "\n",
    "\n",
    "### ANOMALIES ###\n",
    "\n",
    "def anomalies(ds, model):\n",
    "    '''\n",
    "    Returns timeseries of anomalies (globally averaged) for a given dataset.\n",
    "    '''\n",
    "    try:  \n",
    "        baseline = ds.sel(time = slice('1861', '1880')).groupby('time.month')\n",
    "        ds_standard = (ds.groupby('time.month') - baseline.mean())/baseline.std()\n",
    "        ds_anom = global_mean(ds_standard)\n",
    "        return ds_anom\n",
    "    except:\n",
    "        print('***** error calculating ' + str(model) + ' anomalies *****')   \n",
    "\n",
    "### RESPONSES ###\n",
    "\n",
    "def responses(ds):\n",
    "    \"\"\"\n",
    "    Calculate difference between early and late period.\n",
    "    Lazy.\n",
    "    \"\"\"\n",
    "\n",
    "    ds = ds.copy()\n",
    "    \n",
    "    early_start = '1861'\n",
    "    early_end = '1880'\n",
    "    early = ds.sel(time=slice(early_start, early_end)).mean(dim = 'time')\n",
    "    \n",
    "    late_start = '2050'\n",
    "    late_end = '2100'\n",
    "    late = ds.sel(time = slice(late_start, late_end)).mean(dim = 'time')\n",
    "    \n",
    "    difference = (late - early)/early.std()\n",
    "    \n",
    "    return difference"
   ]
  },
  {
   "cell_type": "markdown",
   "id": "04f4eb58-a7f5-4c3c-98b2-ee82e76212ee",
   "metadata": {},
   "source": [
    "## Variable, Model, Experiment, and Region Selection for Querying pangeo CMIP6 datastore\n",
    "\n",
    "I've loaded data models that include surface soil moisture (`mrsos`), temperature (`tas`), and precipitation (`pr`) at the monthly timescale (`Amon` for atmospheric variables and `Lmon` for land variables) for the historical time period and future scenario, `ssp585`. This can, of course, be adjusted to look for different variables and scenarios.\n",
    "\n",
    "I've also loaded data for total column moisture (`mrso`) and precipitation (`pr`). \n",
    "\n",
    "For more information on the available data and naming conventions check out [this google doc](https://docs.google.com/document/d/1h0r8RZr_f3-8egBMMh7aqLwy3snpD6_MrDz1q8n5XUk/edit), the more up-to-date [github](https://github.com/WCRP-CMIP/CMIP6_CVs/ ), or [this excel spreadsheet has all the MIP Variable names](https://cmip6dr.github.io/Data_Request_Home/Documents/MIPVariableNames.xls)."
   ]
  },
  {
   "cell_type": "code",
   "execution_count": 4,
   "id": "b6b00a58-321f-427e-b044-5d1675541f64",
   "metadata": {},
   "outputs": [],
   "source": [
    "#variable_id = ['mrsos', 'pr', 'tas']\n",
    "variable_id = ['mrso', 'pr']\n",
    "\n",
    "\n",
    "#source_id = ['CanESM5']\n",
    "source_id = [\n",
    "    'ACCESS-CM2', 'BCC-CSM2-MR', 'CAMS-CSM1-0',\t'CNRM-CM6-1', 'CNRM-ESM2-1', \n",
    "    'CanESM5-CanOE', 'EC-Earth3-Veg', 'FIO-ESM-2-0', 'GFDL-CM4',\n",
    "    'IPSL-CM6A-LR', 'MIROC-ES2L',  'MPI-ESM1-2-HR', 'MPI-ESM1-2-LR',\n",
    "    'MRI-ESM2-0', 'UKESM1-0-LL' , 'MIROC6', 'CanESM5' # trying these again with the new preprocessing\t\n",
    "]\n",
    "\n",
    "#dropped = ['EC-Earth3', 'CESM2-WACCMC', 'CanESM5']#, #'MIROC6'\n",
    "\n",
    "experiment_id = ['historical', 'ssp585']\n",
    "\n",
    "# define region \n",
    "\n",
    "#region_params = {'lat':[25,55],'lon':[-15, 45]} # Mediterranean\n",
    "#region = 'Mediterranean'\n",
    "region_params = {'lat':[25, 45],'lon':[-125, -105]} # US Southwest\n",
    "region = 'US_Southwest'\n",
    "# {'lat': [70, 55], 'lon' : [-170, -139]} do alaska 4 casey mo'casey\n",
    "#region = \"Alaska\""
   ]
  },
  {
   "cell_type": "code",
   "execution_count": 5,
   "id": "f2de14cd-eade-47dc-8c5c-2fc26ea30d7e",
   "metadata": {},
   "outputs": [],
   "source": [
    "col = intake.open_esm_datastore(\"https://storage.googleapis.com/cmip6/pangeo-cmip6.json\")\n",
    "\n",
    "\n",
    "# form query dictionary\n",
    "query = dict(experiment_id = experiment_id, \n",
    "             variable_id = variable_id, \n",
    "             # to use all available models comment out this line and the preceeding comma\n",
    "             # however, i am unsure if all models will work \n",
    "             source_id = source_id\n",
    "            ) \n",
    "\n",
    "# subset catalog and get some metrics grouped by 'source_id' and 'member_id' as I only want\n",
    "# models that run from the historical into the scenario on the same experimental forcing\n",
    "col_subset = col.search(require_all_on=['source_id', 'member_id'], **query)\n",
    "\n",
    "# just grab the monthly atmosphere and land \n",
    "cat = col_subset.search(table_id = ['Amon', 'Lmon'])"
   ]
  },
  {
   "cell_type": "code",
   "execution_count": 6,
   "id": "5f5522a3-8dd2-46b8-8927-cae0cc5df6c5",
   "metadata": {},
   "outputs": [
    {
     "data": {
      "text/html": [
       "<div>\n",
       "<style scoped>\n",
       "    .dataframe tbody tr th:only-of-type {\n",
       "        vertical-align: middle;\n",
       "    }\n",
       "\n",
       "    .dataframe tbody tr th {\n",
       "        vertical-align: top;\n",
       "    }\n",
       "\n",
       "    .dataframe thead th {\n",
       "        text-align: right;\n",
       "    }\n",
       "</style>\n",
       "<table border=\"1\" class=\"dataframe\">\n",
       "  <thead>\n",
       "    <tr style=\"text-align: right;\">\n",
       "      <th></th>\n",
       "      <th>experiment_id</th>\n",
       "      <th>variable_id</th>\n",
       "      <th>member_id</th>\n",
       "    </tr>\n",
       "    <tr>\n",
       "      <th>source_id</th>\n",
       "      <th></th>\n",
       "      <th></th>\n",
       "      <th></th>\n",
       "    </tr>\n",
       "  </thead>\n",
       "  <tbody>\n",
       "    <tr>\n",
       "      <th>ACCESS-CM2</th>\n",
       "      <td>2</td>\n",
       "      <td>2</td>\n",
       "      <td>3</td>\n",
       "    </tr>\n",
       "    <tr>\n",
       "      <th>BCC-CSM2-MR</th>\n",
       "      <td>2</td>\n",
       "      <td>2</td>\n",
       "      <td>1</td>\n",
       "    </tr>\n",
       "    <tr>\n",
       "      <th>CAMS-CSM1-0</th>\n",
       "      <td>2</td>\n",
       "      <td>2</td>\n",
       "      <td>1</td>\n",
       "    </tr>\n",
       "    <tr>\n",
       "      <th>CNRM-CM6-1</th>\n",
       "      <td>2</td>\n",
       "      <td>2</td>\n",
       "      <td>6</td>\n",
       "    </tr>\n",
       "    <tr>\n",
       "      <th>CNRM-ESM2-1</th>\n",
       "      <td>2</td>\n",
       "      <td>2</td>\n",
       "      <td>5</td>\n",
       "    </tr>\n",
       "    <tr>\n",
       "      <th>CanESM5</th>\n",
       "      <td>2</td>\n",
       "      <td>2</td>\n",
       "      <td>50</td>\n",
       "    </tr>\n",
       "    <tr>\n",
       "      <th>CanESM5-CanOE</th>\n",
       "      <td>2</td>\n",
       "      <td>2</td>\n",
       "      <td>3</td>\n",
       "    </tr>\n",
       "    <tr>\n",
       "      <th>EC-Earth3-Veg</th>\n",
       "      <td>2</td>\n",
       "      <td>2</td>\n",
       "      <td>5</td>\n",
       "    </tr>\n",
       "    <tr>\n",
       "      <th>GFDL-CM4</th>\n",
       "      <td>2</td>\n",
       "      <td>2</td>\n",
       "      <td>1</td>\n",
       "    </tr>\n",
       "    <tr>\n",
       "      <th>IPSL-CM6A-LR</th>\n",
       "      <td>2</td>\n",
       "      <td>2</td>\n",
       "      <td>6</td>\n",
       "    </tr>\n",
       "    <tr>\n",
       "      <th>MIROC-ES2L</th>\n",
       "      <td>2</td>\n",
       "      <td>2</td>\n",
       "      <td>1</td>\n",
       "    </tr>\n",
       "    <tr>\n",
       "      <th>MIROC6</th>\n",
       "      <td>2</td>\n",
       "      <td>2</td>\n",
       "      <td>50</td>\n",
       "    </tr>\n",
       "    <tr>\n",
       "      <th>MPI-ESM1-2-HR</th>\n",
       "      <td>2</td>\n",
       "      <td>2</td>\n",
       "      <td>2</td>\n",
       "    </tr>\n",
       "    <tr>\n",
       "      <th>MPI-ESM1-2-LR</th>\n",
       "      <td>2</td>\n",
       "      <td>2</td>\n",
       "      <td>10</td>\n",
       "    </tr>\n",
       "    <tr>\n",
       "      <th>MRI-ESM2-0</th>\n",
       "      <td>2</td>\n",
       "      <td>2</td>\n",
       "      <td>2</td>\n",
       "    </tr>\n",
       "    <tr>\n",
       "      <th>UKESM1-0-LL</th>\n",
       "      <td>2</td>\n",
       "      <td>2</td>\n",
       "      <td>6</td>\n",
       "    </tr>\n",
       "  </tbody>\n",
       "</table>\n",
       "</div>"
      ],
      "text/plain": [
       "               experiment_id  variable_id  member_id\n",
       "source_id                                           \n",
       "ACCESS-CM2                 2            2          3\n",
       "BCC-CSM2-MR                2            2          1\n",
       "CAMS-CSM1-0                2            2          1\n",
       "CNRM-CM6-1                 2            2          6\n",
       "CNRM-ESM2-1                2            2          5\n",
       "CanESM5                    2            2         50\n",
       "CanESM5-CanOE              2            2          3\n",
       "EC-Earth3-Veg              2            2          5\n",
       "GFDL-CM4                   2            2          1\n",
       "IPSL-CM6A-LR               2            2          6\n",
       "MIROC-ES2L                 2            2          1\n",
       "MIROC6                     2            2         50\n",
       "MPI-ESM1-2-HR              2            2          2\n",
       "MPI-ESM1-2-LR              2            2         10\n",
       "MRI-ESM2-0                 2            2          2\n",
       "UKESM1-0-LL                2            2          6"
      ]
     },
     "execution_count": 6,
     "metadata": {},
     "output_type": "execute_result"
    }
   ],
   "source": [
    "cat.df.groupby('source_id')[['experiment_id', 'variable_id', 'member_id']].nunique()"
   ]
  },
  {
   "cell_type": "code",
   "execution_count": 7,
   "id": "7e89e70e-57c2-4b32-813d-e4dd4497fea0",
   "metadata": {},
   "outputs": [
    {
     "name": "stdout",
     "output_type": "stream",
     "text": [
      "\n",
      "--> The keys in the returned dictionary of datasets are constructed as follows:\n",
      "\t'activity_id.institution_id.source_id.experiment_id.table_id.grid_label'\n"
     ]
    },
    {
     "data": {
      "text/html": [
       "\n",
       "    <div>\n",
       "        <style>\n",
       "            /* Turns off some styling */\n",
       "            progress {\n",
       "                /* gets rid of default border in Firefox and Opera. */\n",
       "                border: none;\n",
       "                /* Needs to be in here for Safari polyfill so background images work as expected. */\n",
       "                background-size: auto;\n",
       "            }\n",
       "            .progress-bar-interrupted, .progress-bar-interrupted::-webkit-progress-bar {\n",
       "                background: #F44336;\n",
       "            }\n",
       "        </style>\n",
       "      <progress value='68' class='' max='68' style='width:300px; height:20px; vertical-align: middle;'></progress>\n",
       "      100.00% [68/68 00:40<00:00]\n",
       "    </div>\n",
       "    "
      ],
      "text/plain": [
       "<IPython.core.display.HTML object>"
      ]
     },
     "metadata": {},
     "output_type": "display_data"
    }
   ],
   "source": [
    "dset_dict = cat.to_dataset_dict(\n",
    "    zarr_kwargs={\"consolidated\": True, \"decode_times\": True, \"use_cftime\": True}, \n",
    "    preprocess = wrapper\n",
    ")"
   ]
  },
  {
   "cell_type": "code",
   "execution_count": 8,
   "id": "898043b6-978e-4167-bf2f-82dbde2882bd",
   "metadata": {},
   "outputs": [
    {
     "data": {
      "application/vnd.jupyter.widget-view+json": {
       "model_id": "9a525b2734eb4046a53e391a30627e29",
       "version_major": 2,
       "version_minor": 0
      },
      "text/plain": [
       "  0%|          | 0/16 [00:00<?, ?it/s]"
      ]
     },
     "metadata": {},
     "output_type": "display_data"
    }
   ],
   "source": [
    "modelnames = {}\n",
    "\n",
    "dset_concat = {}\n",
    "\n",
    "for model in tqdm(list(cat.df['source_id'].unique())):\n",
    "    # makes a list of long names\n",
    "    # sorts alphabetically\n",
    "    modelnames[model] = sorted(list({k : v for k, v in dset_dict.items() if model in k}.keys()))\n",
    "    \n",
    "    # make a dictionary of the concat (to combine full time series) and merged (to combine variables)\n",
    "    dset_concat[model] = xr.merge([xr.concat([dset_dict[modelnames[model][0]], dset_dict[modelnames[model][2]]], dim = 'time'),\n",
    "                                   xr.concat([dset_dict[modelnames[model][1]], dset_dict[modelnames[model][3]]], dim = 'time')])\n",
    "    \n",
    "models = modelnames.keys()\n"
   ]
  },
  {
   "cell_type": "markdown",
   "id": "d7a62d47-ee2c-4fda-ba71-ee747edfe78b",
   "metadata": {},
   "source": [
    "## Drought Index\n",
    "\n",
    "Steps:\n",
    "1. Loops through each available model and loads information for the specified region.\n",
    "2. Creates a baseline, grouped by month, for the 1861-1880 time period. \n",
    "3. Standardizes \n",
    "4. Takes a weighted mean to create a timeseries.\n",
    "\n",
    "The following code block loads the data into memory, this can take a while.\n"
   ]
  },
  {
   "cell_type": "code",
   "execution_count": 11,
   "id": "ee87d731-3615-4145-8ce6-8702b21ece78",
   "metadata": {},
   "outputs": [
    {
     "data": {
      "application/vnd.jupyter.widget-view+json": {
       "model_id": "869b1b4a031f45b4bd7dbd3ba7615a12",
       "version_major": 2,
       "version_minor": 0
      },
      "text/plain": [
       "  0%|          | 0/16 [00:00<?, ?it/s]"
      ]
     },
     "metadata": {},
     "output_type": "display_data"
    },
    {
     "name": "stdout",
     "output_type": "stream",
     "text": [
      "starting ACCESS-CM2\n",
      "starting BCC-CSM2-MR\n",
      "starting CAMS-CSM1-0\n",
      "starting CNRM-CM6-1\n",
      "starting CNRM-ESM2-1\n",
      "starting CanESM5\n",
      "***** error calculating CanESM5 anomalies *****\n",
      "starting CanESM5-CanOE\n",
      "starting EC-Earth3-Veg\n",
      "starting GFDL-CM4\n",
      "starting IPSL-CM6A-LR\n",
      "starting MIROC-ES2L\n",
      "starting MIROC6\n",
      "starting MPI-ESM1-2-HR\n",
      "starting MPI-ESM1-2-LR\n",
      "starting MRI-ESM2-0\n",
      "starting UKESM1-0-LL\n",
      "***** error calculating UKESM1-0-LL anomalies *****\n"
     ]
    }
   ],
   "source": [
    "model_anoms = {model : {} for model in models}\n",
    "\n",
    "for model in tqdm(model_anoms.keys()):\n",
    "    print(\"starting \" + str(model))\n",
    "    ds = region_select(dset_concat[model], region_params).load()\n",
    "    model_anoms[model] = anomalies(ds, model)\n"
   ]
  },
  {
   "cell_type": "markdown",
   "id": "eb377c0f-5326-4d91-972d-914766a18a53",
   "metadata": {},
   "source": [
    "Get the path's playing nice (only run this once, otherwise you need to set the path manually). This also assumes your path defaults to the folder in which this notebook exists. "
   ]
  },
  {
   "cell_type": "code",
   "execution_count": 14,
   "id": "789b6517-bc26-482e-9384-eeaed9b2450a",
   "metadata": {},
   "outputs": [],
   "source": [
    "import os\n",
    "from pathlib import Path\n",
    "\n",
    "# grab the default path\n",
    "p=Path(os.getcwd())\n",
    "\n",
    "# move up a directory\n",
    "os.chdir(p.parent)\n",
    "\n",
    "# save that location\n",
    "project_prefix = os.getcwd()"
   ]
  },
  {
   "cell_type": "code",
   "execution_count": 15,
   "id": "7784d736-8047-4c7f-a517-35ac2416d8a6",
   "metadata": {},
   "outputs": [
    {
     "data": {
      "text/plain": [
       "'/Users/miriam/Documents/02_Academia/02_PhD/research/projects/drought-termination'"
      ]
     },
     "execution_count": 15,
     "metadata": {},
     "output_type": "execute_result"
    }
   ],
   "source": [
    "project_prefix"
   ]
  },
  {
   "cell_type": "markdown",
   "id": "3543f79e-9490-4461-99dd-da7510b3fe00",
   "metadata": {},
   "source": [
    "Export drought anomalies for later analysis"
   ]
  },
  {
   "cell_type": "code",
   "execution_count": 16,
   "id": "c3bd74c4-010d-448a-bf0a-badccfbe5a8c",
   "metadata": {},
   "outputs": [
    {
     "name": "stdout",
     "output_type": "stream",
     "text": [
      "starting ACCESS-CM2\n",
      "starting BCC-CSM2-MR\n",
      "starting CAMS-CSM1-0\n",
      "starting CNRM-CM6-1\n",
      "starting CNRM-ESM2-1\n",
      "starting CanESM5\n",
      "CanESM5 did not save\n",
      "starting CanESM5-CanOE\n",
      "starting EC-Earth3-Veg\n",
      "starting GFDL-CM4\n",
      "starting IPSL-CM6A-LR\n",
      "starting MIROC-ES2L\n",
      "starting MIROC6\n",
      "starting MPI-ESM1-2-HR\n",
      "starting MPI-ESM1-2-LR\n",
      "starting MRI-ESM2-0\n",
      "starting UKESM1-0-LL\n",
      "UKESM1-0-LL did not save\n"
     ]
    }
   ],
   "source": [
    "import re\n",
    "import glob\n",
    "\n",
    "print_string = \"-\"\n",
    "\n",
    "fn_prefix = '/savepoints/model_anoms/' + region + '_' + print_string.join(variable_id) + '_'\n",
    "\n",
    "\n",
    "# Output them\n",
    "for model in model_anoms:\n",
    "    print('starting ' + str(model))\n",
    "    try:\n",
    "        model_anoms[model].to_netcdf(project_prefix + fn_prefix + model)\n",
    "    except:\n",
    "        print(str(model) + ' did not save')"
   ]
  },
  {
   "cell_type": "markdown",
   "id": "7734fbeb-6be9-43a2-996b-eaa010cfcbf4",
   "metadata": {},
   "source": [
    "To load the data for later use:"
   ]
  },
  {
   "cell_type": "code",
   "execution_count": 44,
   "id": "c22f467a-4e19-4b45-88bc-fb9ca2f946bd",
   "metadata": {},
   "outputs": [],
   "source": [
    "# get filelist\n",
    "fns = glob.glob(project_prefix + fn_prefix+'*')\n",
    "\n",
    "# get the 'key' that was used earlier - just using \n",
    "# regex to get the string after the last \"_\", which \n",
    "# is how to get the ks based on what i made the fn_prefix \n",
    "\n",
    "# above\n",
    "ks = [re.split('\\_',fn)[-1] for fn in fns]\n",
    "# Load\n",
    "dict_of_ds = dict()\n",
    "for k in ks:\n",
    "    dict_of_ds[k] = xr.open_dataset(project_prefix + fn_prefix+k)"
   ]
  },
  {
   "cell_type": "code",
   "execution_count": 52,
   "id": "eb666407-7aa2-4112-ae72-d65820907220",
   "metadata": {},
   "outputs": [
    {
     "data": {
      "text/plain": [
       "[<matplotlib.lines.Line2D at 0x7fd42f8e4e80>]"
      ]
     },
     "execution_count": 52,
     "metadata": {},
     "output_type": "execute_result"
    },
    {
     "data": {
      "image/png": "[encoded data removed]",
      "text/plain": [
       "<Figure size 432x288 with 1 Axes>"
      ]
     },
     "metadata": {
      "needs_background": "light"
     },
     "output_type": "display_data"
    }
   ],
   "source": [
    "dict_of_ds['CNRM-ESM2-1'].pr[0].plot()"
   ]
  },
  {
   "cell_type": "code",
   "execution_count": null,
   "id": "b80e3b6f-9ca3-48c1-8a68-538a3c4214fa",
   "metadata": {},
   "outputs": [],
   "source": []
  }
 ],
 "metadata": {
  "kernelspec": {
   "display_name": "Python 3",
   "language": "python",
   "name": "python3"
  },
  "language_info": {
   "codemirror_mode": {
    "name": "ipython",
    "version": 3
   },
   "file_extension": ".py",
   "mimetype": "text/x-python",
   "name": "python",
   "nbconvert_exporter": "python",
   "pygments_lexer": "ipython3",
   "version": "3.9.5"
  }
 },
 "nbformat": 4,
 "nbformat_minor": 5
}
